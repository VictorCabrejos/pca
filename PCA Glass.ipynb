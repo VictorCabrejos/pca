{
 "cells": [
  {
   "cell_type": "code",
   "execution_count": 1,
   "metadata": {},
   "outputs": [],
   "source": [
    "import pandas as pd"
   ]
  },
  {
   "cell_type": "code",
   "execution_count": 2,
   "metadata": {},
   "outputs": [],
   "source": [
    "df = pd.read_csv(\"glass data short.csv\")"
   ]
  },
  {
   "cell_type": "code",
   "execution_count": 3,
   "metadata": {},
   "outputs": [
    {
     "data": {
      "text/html": [
       "<div>\n",
       "<style scoped>\n",
       "    .dataframe tbody tr th:only-of-type {\n",
       "        vertical-align: middle;\n",
       "    }\n",
       "\n",
       "    .dataframe tbody tr th {\n",
       "        vertical-align: top;\n",
       "    }\n",
       "\n",
       "    .dataframe thead th {\n",
       "        text-align: right;\n",
       "    }\n",
       "</style>\n",
       "<table border=\"1\" class=\"dataframe\">\n",
       "  <thead>\n",
       "    <tr style=\"text-align: right;\">\n",
       "      <th></th>\n",
       "      <th>1.52777</th>\n",
       "      <th>12.64</th>\n",
       "      <th>0</th>\n",
       "      <th>0.67</th>\n",
       "      <th>72.02</th>\n",
       "      <th>0.06</th>\n",
       "      <th>14.4</th>\n",
       "      <th>0.1</th>\n",
       "      <th>0.2</th>\n",
       "      <th>2</th>\n",
       "    </tr>\n",
       "  </thead>\n",
       "  <tbody>\n",
       "    <tr>\n",
       "      <th>0</th>\n",
       "      <td>1.51909</td>\n",
       "      <td>13.89</td>\n",
       "      <td>3.53</td>\n",
       "      <td>1.32</td>\n",
       "      <td>71.81</td>\n",
       "      <td>0.51</td>\n",
       "      <td>8.78</td>\n",
       "      <td>0.11</td>\n",
       "      <td>0.00</td>\n",
       "      <td>1</td>\n",
       "    </tr>\n",
       "    <tr>\n",
       "      <th>1</th>\n",
       "      <td>1.51837</td>\n",
       "      <td>13.14</td>\n",
       "      <td>2.84</td>\n",
       "      <td>1.28</td>\n",
       "      <td>72.85</td>\n",
       "      <td>0.55</td>\n",
       "      <td>9.07</td>\n",
       "      <td>0.00</td>\n",
       "      <td>0.00</td>\n",
       "      <td>1</td>\n",
       "    </tr>\n",
       "    <tr>\n",
       "      <th>2</th>\n",
       "      <td>1.52739</td>\n",
       "      <td>11.02</td>\n",
       "      <td>0.00</td>\n",
       "      <td>0.75</td>\n",
       "      <td>73.08</td>\n",
       "      <td>0.00</td>\n",
       "      <td>14.96</td>\n",
       "      <td>0.00</td>\n",
       "      <td>0.00</td>\n",
       "      <td>2</td>\n",
       "    </tr>\n",
       "    <tr>\n",
       "      <th>3</th>\n",
       "      <td>1.52020</td>\n",
       "      <td>13.98</td>\n",
       "      <td>1.35</td>\n",
       "      <td>1.63</td>\n",
       "      <td>71.76</td>\n",
       "      <td>0.39</td>\n",
       "      <td>10.56</td>\n",
       "      <td>0.00</td>\n",
       "      <td>0.18</td>\n",
       "      <td>2</td>\n",
       "    </tr>\n",
       "    <tr>\n",
       "      <th>4</th>\n",
       "      <td>1.51721</td>\n",
       "      <td>12.87</td>\n",
       "      <td>3.48</td>\n",
       "      <td>1.33</td>\n",
       "      <td>73.04</td>\n",
       "      <td>0.56</td>\n",
       "      <td>8.43</td>\n",
       "      <td>0.00</td>\n",
       "      <td>0.00</td>\n",
       "      <td>1</td>\n",
       "    </tr>\n",
       "  </tbody>\n",
       "</table>\n",
       "</div>"
      ],
      "text/plain": [
       "   1.52777  12.64     0  0.67  72.02  0.06   14.4   0.1   0.2  2\n",
       "0  1.51909  13.89  3.53  1.32  71.81  0.51   8.78  0.11  0.00  1\n",
       "1  1.51837  13.14  2.84  1.28  72.85  0.55   9.07  0.00  0.00  1\n",
       "2  1.52739  11.02  0.00  0.75  73.08  0.00  14.96  0.00  0.00  2\n",
       "3  1.52020  13.98  1.35  1.63  71.76  0.39  10.56  0.00  0.18  2\n",
       "4  1.51721  12.87  3.48  1.33  73.04  0.56   8.43  0.00  0.00  1"
      ]
     },
     "execution_count": 3,
     "metadata": {},
     "output_type": "execute_result"
    }
   ],
   "source": [
    "df.head()"
   ]
  },
  {
   "cell_type": "markdown",
   "metadata": {},
   "source": [
    "Attribute Information:\n",
    "\n",
    "    . RI: refractive index\n",
    "    . Na: Sodium (unit measurement: weight percent in corresponding oxide)\n",
    "    . Mg: Magnesium\n",
    "    . Al: Aluminum\n",
    "    . Si: Silicon\n",
    "    . K: Potassium\n",
    "    . Ca: Calcium\n",
    "    . Ba: Barium\n",
    "    . Fe: Iron\n",
    "\n",
    "Type of glass: (class attribute)\n",
    "\n",
    "    . Window:\n",
    "    -- 1 building_windows_float_processed \n",
    "    -- 2 building_windows_non_float_processed \n",
    "\n",
    "    . Non-Window:\n",
    "    -- 6 tableware"
   ]
  },
  {
   "cell_type": "code",
   "execution_count": 4,
   "metadata": {},
   "outputs": [],
   "source": [
    "df.columns = [\"ri\", \"na\", \"mg\", \"al\", \"si\", \"k\", \"ca\", \"ba\", \"fe\", \"glass_type\"]"
   ]
  },
  {
   "cell_type": "code",
   "execution_count": 5,
   "metadata": {},
   "outputs": [
    {
     "data": {
      "text/html": [
       "<div>\n",
       "<style scoped>\n",
       "    .dataframe tbody tr th:only-of-type {\n",
       "        vertical-align: middle;\n",
       "    }\n",
       "\n",
       "    .dataframe tbody tr th {\n",
       "        vertical-align: top;\n",
       "    }\n",
       "\n",
       "    .dataframe thead th {\n",
       "        text-align: right;\n",
       "    }\n",
       "</style>\n",
       "<table border=\"1\" class=\"dataframe\">\n",
       "  <thead>\n",
       "    <tr style=\"text-align: right;\">\n",
       "      <th></th>\n",
       "      <th>ri</th>\n",
       "      <th>na</th>\n",
       "      <th>mg</th>\n",
       "      <th>al</th>\n",
       "      <th>si</th>\n",
       "      <th>k</th>\n",
       "      <th>ca</th>\n",
       "      <th>ba</th>\n",
       "      <th>fe</th>\n",
       "      <th>glass_type</th>\n",
       "    </tr>\n",
       "  </thead>\n",
       "  <tbody>\n",
       "    <tr>\n",
       "      <th>0</th>\n",
       "      <td>1.51909</td>\n",
       "      <td>13.89</td>\n",
       "      <td>3.53</td>\n",
       "      <td>1.32</td>\n",
       "      <td>71.81</td>\n",
       "      <td>0.51</td>\n",
       "      <td>8.78</td>\n",
       "      <td>0.11</td>\n",
       "      <td>0.00</td>\n",
       "      <td>1</td>\n",
       "    </tr>\n",
       "    <tr>\n",
       "      <th>1</th>\n",
       "      <td>1.51837</td>\n",
       "      <td>13.14</td>\n",
       "      <td>2.84</td>\n",
       "      <td>1.28</td>\n",
       "      <td>72.85</td>\n",
       "      <td>0.55</td>\n",
       "      <td>9.07</td>\n",
       "      <td>0.00</td>\n",
       "      <td>0.00</td>\n",
       "      <td>1</td>\n",
       "    </tr>\n",
       "    <tr>\n",
       "      <th>2</th>\n",
       "      <td>1.52739</td>\n",
       "      <td>11.02</td>\n",
       "      <td>0.00</td>\n",
       "      <td>0.75</td>\n",
       "      <td>73.08</td>\n",
       "      <td>0.00</td>\n",
       "      <td>14.96</td>\n",
       "      <td>0.00</td>\n",
       "      <td>0.00</td>\n",
       "      <td>2</td>\n",
       "    </tr>\n",
       "    <tr>\n",
       "      <th>3</th>\n",
       "      <td>1.52020</td>\n",
       "      <td>13.98</td>\n",
       "      <td>1.35</td>\n",
       "      <td>1.63</td>\n",
       "      <td>71.76</td>\n",
       "      <td>0.39</td>\n",
       "      <td>10.56</td>\n",
       "      <td>0.00</td>\n",
       "      <td>0.18</td>\n",
       "      <td>2</td>\n",
       "    </tr>\n",
       "    <tr>\n",
       "      <th>4</th>\n",
       "      <td>1.51721</td>\n",
       "      <td>12.87</td>\n",
       "      <td>3.48</td>\n",
       "      <td>1.33</td>\n",
       "      <td>73.04</td>\n",
       "      <td>0.56</td>\n",
       "      <td>8.43</td>\n",
       "      <td>0.00</td>\n",
       "      <td>0.00</td>\n",
       "      <td>1</td>\n",
       "    </tr>\n",
       "  </tbody>\n",
       "</table>\n",
       "</div>"
      ],
      "text/plain": [
       "        ri     na    mg    al     si     k     ca    ba    fe  glass_type\n",
       "0  1.51909  13.89  3.53  1.32  71.81  0.51   8.78  0.11  0.00           1\n",
       "1  1.51837  13.14  2.84  1.28  72.85  0.55   9.07  0.00  0.00           1\n",
       "2  1.52739  11.02  0.00  0.75  73.08  0.00  14.96  0.00  0.00           2\n",
       "3  1.52020  13.98  1.35  1.63  71.76  0.39  10.56  0.00  0.18           2\n",
       "4  1.51721  12.87  3.48  1.33  73.04  0.56   8.43  0.00  0.00           1"
      ]
     },
     "execution_count": 5,
     "metadata": {},
     "output_type": "execute_result"
    }
   ],
   "source": [
    "df.head()"
   ]
  },
  {
   "cell_type": "code",
   "execution_count": 7,
   "metadata": {},
   "outputs": [
    {
     "data": {
      "text/plain": [
       "array([1, 2, 6], dtype=int64)"
      ]
     },
     "execution_count": 7,
     "metadata": {},
     "output_type": "execute_result"
    }
   ],
   "source": [
    "df.glass_type.unique()\n",
    "\n",
    "#df['glass_type'].unique()"
   ]
  },
  {
   "cell_type": "code",
   "execution_count": 8,
   "metadata": {},
   "outputs": [
    {
     "data": {
      "text/plain": [
       "(173, 10)"
      ]
     },
     "execution_count": 8,
     "metadata": {},
     "output_type": "execute_result"
    }
   ],
   "source": [
    "df.shape"
   ]
  },
  {
   "cell_type": "markdown",
   "metadata": {},
   "source": [
    "### Standardize the Data"
   ]
  },
  {
   "cell_type": "code",
   "execution_count": 13,
   "metadata": {},
   "outputs": [
    {
     "data": {
      "text/html": [
       "<div>\n",
       "<style scoped>\n",
       "    .dataframe tbody tr th:only-of-type {\n",
       "        vertical-align: middle;\n",
       "    }\n",
       "\n",
       "    .dataframe tbody tr th {\n",
       "        vertical-align: top;\n",
       "    }\n",
       "\n",
       "    .dataframe thead th {\n",
       "        text-align: right;\n",
       "    }\n",
       "</style>\n",
       "<table border=\"1\" class=\"dataframe\">\n",
       "  <thead>\n",
       "    <tr style=\"text-align: right;\">\n",
       "      <th></th>\n",
       "      <th>ri</th>\n",
       "      <th>na</th>\n",
       "      <th>mg</th>\n",
       "      <th>al</th>\n",
       "      <th>si</th>\n",
       "      <th>k</th>\n",
       "      <th>ca</th>\n",
       "      <th>ba</th>\n",
       "      <th>fe</th>\n",
       "    </tr>\n",
       "  </thead>\n",
       "  <tbody>\n",
       "    <tr>\n",
       "      <th>0</th>\n",
       "      <td>1.51909</td>\n",
       "      <td>13.89</td>\n",
       "      <td>3.53</td>\n",
       "      <td>1.32</td>\n",
       "      <td>71.81</td>\n",
       "      <td>0.51</td>\n",
       "      <td>8.78</td>\n",
       "      <td>0.11</td>\n",
       "      <td>0.00</td>\n",
       "    </tr>\n",
       "    <tr>\n",
       "      <th>1</th>\n",
       "      <td>1.51837</td>\n",
       "      <td>13.14</td>\n",
       "      <td>2.84</td>\n",
       "      <td>1.28</td>\n",
       "      <td>72.85</td>\n",
       "      <td>0.55</td>\n",
       "      <td>9.07</td>\n",
       "      <td>0.00</td>\n",
       "      <td>0.00</td>\n",
       "    </tr>\n",
       "    <tr>\n",
       "      <th>2</th>\n",
       "      <td>1.52739</td>\n",
       "      <td>11.02</td>\n",
       "      <td>0.00</td>\n",
       "      <td>0.75</td>\n",
       "      <td>73.08</td>\n",
       "      <td>0.00</td>\n",
       "      <td>14.96</td>\n",
       "      <td>0.00</td>\n",
       "      <td>0.00</td>\n",
       "    </tr>\n",
       "    <tr>\n",
       "      <th>3</th>\n",
       "      <td>1.52020</td>\n",
       "      <td>13.98</td>\n",
       "      <td>1.35</td>\n",
       "      <td>1.63</td>\n",
       "      <td>71.76</td>\n",
       "      <td>0.39</td>\n",
       "      <td>10.56</td>\n",
       "      <td>0.00</td>\n",
       "      <td>0.18</td>\n",
       "    </tr>\n",
       "    <tr>\n",
       "      <th>4</th>\n",
       "      <td>1.51721</td>\n",
       "      <td>12.87</td>\n",
       "      <td>3.48</td>\n",
       "      <td>1.33</td>\n",
       "      <td>73.04</td>\n",
       "      <td>0.56</td>\n",
       "      <td>8.43</td>\n",
       "      <td>0.00</td>\n",
       "      <td>0.00</td>\n",
       "    </tr>\n",
       "  </tbody>\n",
       "</table>\n",
       "</div>"
      ],
      "text/plain": [
       "        ri     na    mg    al     si     k     ca    ba    fe\n",
       "0  1.51909  13.89  3.53  1.32  71.81  0.51   8.78  0.11  0.00\n",
       "1  1.51837  13.14  2.84  1.28  72.85  0.55   9.07  0.00  0.00\n",
       "2  1.52739  11.02  0.00  0.75  73.08  0.00  14.96  0.00  0.00\n",
       "3  1.52020  13.98  1.35  1.63  71.76  0.39  10.56  0.00  0.18\n",
       "4  1.51721  12.87  3.48  1.33  73.04  0.56   8.43  0.00  0.00"
      ]
     },
     "execution_count": 13,
     "metadata": {},
     "output_type": "execute_result"
    }
   ],
   "source": [
    "from sklearn.preprocessing import StandardScaler\n",
    "\n",
    "scaler = StandardScaler() #instantiate\n",
    "\n",
    "features = [\"ri\", \"na\", \"mg\", \"al\", \"si\", \"k\", \"ca\", \"ba\", \"fe\"]\n",
    "\n",
    "x = df.loc[: , features]\n",
    "x.head()"
   ]
  },
  {
   "cell_type": "code",
   "execution_count": 14,
   "metadata": {},
   "outputs": [
    {
     "data": {
      "text/plain": [
       "array([[ 0.24775918,  0.65362608,  0.51343236, ..., -0.041788  ,\n",
       "        -0.17516533, -0.64641076],\n",
       "       [ 0.00980033, -0.32140248,  0.01409701, ...,  0.17728242,\n",
       "        -0.38560701, -0.64641076],\n",
       "       [ 2.99089599, -3.07748319, -2.04113835, ...,  4.62667812,\n",
       "        -0.38560701, -0.64641076],\n",
       "       ...,\n",
       "       [-0.64128154, -1.08842494,  0.47724864, ..., -0.57057866,\n",
       "        -0.38560701,  0.31763287],\n",
       "       [ 2.75293714,  0.78362989,  0.63645701, ...,  0.74384384,\n",
       "        -0.38560701,  0.42474883],\n",
       "       [-0.80653075, -0.47740704,  0.54961608, ..., -0.66122849,\n",
       "        -0.38560701, -0.64641076]])"
      ]
     },
     "execution_count": 14,
     "metadata": {},
     "output_type": "execute_result"
    }
   ],
   "source": [
    "scaler.fit(x)\n",
    "X_scaled = scaler.transform(x)\n",
    "X_scaled"
   ]
  },
  {
   "cell_type": "code",
   "execution_count": 15,
   "metadata": {},
   "outputs": [
    {
     "data": {
      "text/plain": [
       "173"
      ]
     },
     "execution_count": 15,
     "metadata": {},
     "output_type": "execute_result"
    }
   ],
   "source": [
    "len(X_scaled)"
   ]
  },
  {
   "cell_type": "markdown",
   "metadata": {},
   "source": [
    "## Applying PCA (Principal Component Analysis)\n",
    "\n",
    "###  Is there any way to reduce the dimension of the feature space?"
   ]
  },
  {
   "cell_type": "markdown",
   "metadata": {},
   "source": [
    "    .  We know that in a data-set there are high possibilities for some features to be correlated.\n",
    "    \n",
    "    . PCA is essentially a method that reduces the dimension of the feature space in such a way that new variables are orthogonal to each other (i.e. they are independent or not correlated)"
   ]
  },
  {
   "cell_type": "code",
   "execution_count": 18,
   "metadata": {},
   "outputs": [
    {
     "name": "stdout",
     "output_type": "stream",
     "text": [
      "shape of X_pca (173, 9)\n"
     ]
    }
   ],
   "source": [
    "import numpy as np\n",
    "from sklearn.decomposition import PCA\n",
    "\n",
    "pca = PCA(n_components = 9)\n",
    "pca.fit(X_scaled)\n",
    "X_pca = pca.transform(X_scaled)\n",
    "\n",
    "# Let's check the shape of the PCA array\n",
    "\n",
    "print(\"shape of X_pca\", X_pca.shape)"
   ]
  },
  {
   "cell_type": "code",
   "execution_count": 19,
   "metadata": {},
   "outputs": [
    {
     "name": "stdout",
     "output_type": "stream",
     "text": [
      "[3.00266176e-01 2.83314665e-01 1.39550409e-01 1.03067054e-01\n",
      " 8.71544404e-02 4.71738696e-02 3.23478121e-02 6.97662552e-03\n",
      " 1.48948327e-04]\n"
     ]
    }
   ],
   "source": [
    "# check by measuring the variance ratio of the principal component\n",
    "\n",
    "ex_variance = np.var(X_pca, axis=0)\n",
    "ex_variance_ratio = ex_variance / np.sum(ex_variance)\n",
    "\n",
    "print(ex_variance_ratio)"
   ]
  },
  {
   "cell_type": "code",
   "execution_count": 20,
   "metadata": {},
   "outputs": [
    {
     "name": "stdout",
     "output_type": "stream",
     "text": [
      "1.0000000000000002\n"
     ]
    }
   ],
   "source": [
    "print(sum(ex_variance_ratio))"
   ]
  },
  {
   "cell_type": "code",
   "execution_count": 21,
   "metadata": {},
   "outputs": [
    {
     "data": {
      "text/plain": [
       "array([30. , 58.3, 72.3, 82.6, 91.3, 96. , 99.2, 99.9, 99.9])"
      ]
     },
     "execution_count": 21,
     "metadata": {},
     "output_type": "execute_result"
    }
   ],
   "source": [
    "var=np.cumsum(np.round(pca.explained_variance_ratio_, decimals=3)*100)\n",
    "var #cumulative sum of variance explained with [n] features"
   ]
  },
  {
   "cell_type": "code",
   "execution_count": 23,
   "metadata": {},
   "outputs": [
    {
     "data": {
      "text/plain": [
       "[<matplotlib.lines.Line2D at 0x1a04e626160>]"
      ]
     },
     "execution_count": 23,
     "metadata": {},
     "output_type": "execute_result"
    },
    {
     "data": {
      "image/png": "[encoded data removed]",
      "text/plain": [
       "<Figure size 432x288 with 1 Axes>"
      ]
     },
     "metadata": {
      "needs_background": "light"
     },
     "output_type": "display_data"
    }
   ],
   "source": [
    "import matplotlib.pyplot as plt\n",
    "\n",
    "plt.ylabel('% Variance Explained')\n",
    "plt.xlabel('# of Features')\n",
    "plt.title('PCA Analysis')\n",
    "plt.ylim(30, 101)\n",
    "plt.style.context('seaborn-whitegrid')\n",
    "plt.plot(var)"
   ]
  },
  {
   "cell_type": "code",
   "execution_count": 38,
   "metadata": {},
   "outputs": [
    {
     "name": "stdout",
     "output_type": "stream",
     "text": [
      "shape of X_pca (173, 5)\n"
     ]
    }
   ],
   "source": [
    "pca = PCA(n_components = 5)\n",
    "pca.fit(X_scaled)\n",
    "X_pca = pca.transform(X_scaled)\n",
    "\n",
    "# Let's check the shape of the PCA array\n",
    "\n",
    "print(\"shape of X_pca\", X_pca.shape)"
   ]
  },
  {
   "cell_type": "code",
   "execution_count": 39,
   "metadata": {},
   "outputs": [
    {
     "name": "stdout",
     "output_type": "stream",
     "text": [
      "Eigenvector : \n",
      " [[ 0.4960288  -0.28798885  0.19380612 -0.45371718 -0.35077144 -0.06874347\n",
      "   0.42763626 -0.27556756  0.202537  ]\n",
      " [ 0.31054812  0.32076308 -0.50197184  0.2127826  -0.21984991 -0.41344522\n",
      "   0.34665325  0.40125594 -0.05452533]\n",
      " [-0.01631026 -0.51950439 -0.36890901  0.23065779  0.3694413   0.24896089\n",
      "   0.27408661  0.13405144  0.49898961]\n",
      " [ 0.07581132  0.12253593  0.17596106  0.18007941 -0.57661217  0.41297042\n",
      "  -0.27184786  0.37316639  0.44684015]\n",
      " [ 0.2377961  -0.27687528 -0.10787065  0.00597625 -0.08660649  0.55017753\n",
      "   0.09422181  0.24338461 -0.69051538]]\n",
      "number of Eigenvectors : \n",
      " 5\n"
     ]
    }
   ],
   "source": [
    "# The eigenvectors:\n",
    "# These are eigenvectors of the covariance matrix\n",
    "print('Eigenvector : \\n', pca.components_)\n",
    "print('number of Eigenvectors : \\n', len(pca.components_))"
   ]
  },
  {
   "cell_type": "code",
   "execution_count": 40,
   "metadata": {},
   "outputs": [
    {
     "name": "stdout",
     "output_type": "stream",
     "text": [
      "Eigenvalues :\n",
      " [2.71810719 2.56465659 1.26325574 0.93299653 0.78895037]\n"
     ]
    }
   ],
   "source": [
    "# The eigenvalues associated with the eigenvectors\n",
    "eigenvalues = pca.explained_variance_\n",
    "print(\"Eigenvalues :\\n\", eigenvalues)"
   ]
  },
  {
   "cell_type": "code",
   "execution_count": 41,
   "metadata": {},
   "outputs": [
    {
     "data": {
      "image/png": "[encoded data removed]",
      "text/plain": [
       "<Figure size 504x360 with 1 Axes>"
      ]
     },
     "metadata": {
      "needs_background": "light"
     },
     "output_type": "display_data"
    }
   ],
   "source": [
    "Xax = X_pca[:, 0]\n",
    "Yax = X_pca[:, 1]\n",
    "\n",
    "labels = df.glass_type\n",
    "dictionary = {1:'red', 2:'green', 6:'blue'}\n",
    "label = {1:'windows_float', 2:'windows_non_float', 6:'Non-Window'}\n",
    "marker = {1:'*', 2:'o', 6:'+'}\n",
    "\n",
    "fig, ax = plt.subplots(figsize=(7,5))\n",
    "for i in np.unique(labels):\n",
    "    ix = np.where(labels == i)\n",
    "    ax.scatter(Xax[ix], Yax[ix], c=dictionary[i],\n",
    "              label= label[i], marker=marker[i])\n",
    "\n",
    "\n",
    "plt.xlabel(\"First Principal Component\", fontsize=14)\n",
    "plt.ylabel(\"Second Principal Component\", fontsize=14)\n",
    "plt.legend()\n",
    "plt.show()\n"
   ]
  },
  {
   "cell_type": "code",
   "execution_count": null,
   "metadata": {},
   "outputs": [],
   "source": []
  }
 ],
 "metadata": {
  "kernelspec": {
   "display_name": "Python 3",
   "language": "python",
   "name": "python3"
  },
  "language_info": {
   "codemirror_mode": {
    "name": "ipython",
    "version": 3
   },
   "file_extension": ".py",
   "mimetype": "text/x-python",
   "name": "python",
   "nbconvert_exporter": "python",
   "pygments_lexer": "ipython3",
   "version": "3.7.3"
  }
 },
 "nbformat": 4,
 "nbformat_minor": 2
}
